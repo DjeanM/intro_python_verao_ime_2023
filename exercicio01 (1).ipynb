{
 "cells": [
  {
   "cell_type": "markdown",
   "metadata": {
    "collapsed": true,
    "pycharm": {
     "name": "#%% md\n"
    }
   },
   "source": [
    "## Exercícios - Aula 01"
   ]
  },
  {
   "cell_type": "markdown",
   "metadata": {
    "collapsed": false,
    "pycharm": {
     "name": "#%% md\n"
    }
   },
   "source": [
    "1) Escolha um número entre 1 e 10 e armazene ele numa variável chamada *segredo*. Escolha outro número entre 1 e 10 novamente e salve ele numa variável chamada *chute*. Depois, escreva testes condicionais usando *if*, *else* e *elif* para exibir a mensagem \"muito menor\" se *chute* é menor do que *segredo*, \"muito maior\" se *chute* é maior do que *segredo* e \"na mosca\" se *chute* for igual à *segredo*.\n",
    "\n",
    "2) Escreva uma cadeia de instrucões *if*-*elif*-*else* que determine o estágio da vida de uma pessoa. Defina um valor para a variável *idade* e então:\n",
    "- Se a pessoa tiver menos de 2 anos de idade, mostre uma mensagem dizendo que ela ainda é um bebê.\n",
    "- Se a pessoa tiver pelo menos 2 anos, mas menos de 4, mostre uma mensagem dizendo que ela é uma crianca.\n",
    "- Se a pessoa tiver pelo menos 4 anos, mas menos de 13, mostre uma mensagem dizendo que ela é um(a) goroto(a).\n",
    "- Se a pessoa tiver pelo menos 13 anos, mas menos de 20, mostre uma mensagem dizendo que ela é um(a) adolescente.\n",
    "- Se a pessoa tiver pelo menos 20 anos, mas menos de 65, mostre uma mensagem dizendo que ela é um(a) adulto(a).\n",
    "- Se a pessoa tiver 65 anos ou mais, mostre uma mensagem dizendo que ela é uma pessoa idosa.\n",
    "\n",
    "3) Crie uma lista com cinco ou mais nomes de usuários, incluindo o nome \"admin\". Suponha que você esteja escrevendo um código que exibirá uma saudacão a cada usuário depois que eles fizerem login em um site. Percorra a lista com um laco e mostre uma saudacão para cada usuário:\n",
    "- Se o nome do usuário for \"admin\", mostre uma saudacão especial, por exemplo, \"Olá admin, gostaria de ver o relatório de status?\"\n",
    "- Caso contrário, mostre a saudacão genérica, como \"Olá José, obrigado por fazer login novamente\".\n",
    "\n",
    "4) A partir do exercício anterior, modifique o código criado para acrescentar um teste if que verifica se a lista de usuarios está vazia.\n",
    "- Se a lista de usuários estiver vazia, mostre a mensagem \"Precisamos encontrar alguns usuários!\". Remova todos os nomes de usuários da lista e certifique-se de que essa mensagem aparecerá.\n",
    "\n",
    "5) Crie um programa que simule o modo como os sites garantem que todos tenham um nome de usuário único.\n",
    "- Crie uma lista chamada *current_users* com cinco ou mais nomes de usuários\n",
    "- Crie uma list chamada *new_users* com cinco nomes de usuários. Garanta que dois dos novos usuários também estejam na lista *current_users*\n",
    "- Percorra a lista *new_users* com um laco para ver se cada novo nome de usuário já foi usado. Em caso afirmativo, mostre uma mensagem afirmando que a pessoa deverá fornecer um novo nome. Se um usuário não foi usado, apresente uma mensagem dizendo que o nome do usuário está disponível.\n",
    "- Certifique-se de que sua comparacão não levará em conta as diferencas entre letras maiúsculas e minúsculas. Se \"Pedro\" foi usado, \"PEDRO\" não deverá ser aceito.\n",
    "\n",
    "6) Números ordinais indicam sua posicão em uma lista, por exemplo, 1st, 2nd, em inglês. A maioria dos números ordinais nessa língua termina com th, exceto, 1, 2 e 3.\n",
    "- Armazene os números de 1 a 9 em uma lista.\n",
    "- Pecorra essa lista com um laco.\n",
    "- Use uma cadeia de instrucões *if*-*elif*-*else* que exiba a terminacão apropriada para cada número ordinal. Sua saída deverá conter \"1st 2nd 3rd 4th 5th 6th 7th 8th 9th\" e cada resultado deve estar em uma linha separada\n"
   ]
  },
  {
   "cell_type": "code",
   "execution_count": 7,
   "metadata": {},
   "outputs": [
    {
     "name": "stdout",
     "output_type": "stream",
     "text": [
      "na mosca\n"
     ]
    }
   ],
   "source": [
    "#Questão 1\n",
    "segredo = 7\n",
    "chute = 7\n",
    "if chute < segredo:\n",
    "    print(\"muito menor\")\n",
    "elif chute > segredo:\n",
    "    print(\"muito maior\")\n",
    "else: \n",
    "    print(\"na mosca\")"
   ]
  },
  {
   "cell_type": "code",
   "execution_count": 8,
   "metadata": {},
   "outputs": [
    {
     "name": "stdout",
     "output_type": "stream",
     "text": [
      "Você ainda é um bebezinho, cute,cute\n"
     ]
    }
   ],
   "source": [
    "#Question 2\n",
    "idade = 2\n",
    "if idade == 2:\n",
    "    print(\"Você ainda é um bebezinho, cute,cute\")\n",
    "elif idade < 4:\n",
    "    print(\"Você é uma criança\")\n",
    "elif idade < 13:\n",
    "    print(\"Você é um(a) garoto(a)\")\n",
    "elif idade < 20:\n",
    "    print(\"Você é um adolescente\")\n",
    "elif idade < 65:\n",
    "    print(\"Você é um(a) adulto(a)\")\n",
    "else:\n",
    "    print(\"Você é idoso(a)\")"
   ]
  },
  {
   "cell_type": "code",
   "execution_count": 9,
   "metadata": {},
   "outputs": [
    {
     "name": "stdout",
     "output_type": "stream",
     "text": [
      "Olá,  jean , obrigado por fazer o login novamente\n",
      "Olá, admin, gostaria de ver o relatório de status?\n",
      "Olá,  bruna , obrigado por fazer o login novamente\n",
      "Olá,  josé , obrigado por fazer o login novamente\n",
      "Olá,  carlos , obrigado por fazer o login novamente\n"
     ]
    }
   ],
   "source": [
    "#Question 3\n",
    "lista = [\"jean\", \"admin\", \"bruna\", \"josé\", \"carlos\" ]\n",
    "for i in lista:\n",
    "    if i == \"admin\":\n",
    "        print(\"Olá, admin, gostaria de ver o relatório de status?\")\n",
    "    else:\n",
    "        print(\"Olá, \", (i), ', obrigado por fazer o login novamente')\n",
    "    \n",
    "       \n",
    "\n"
   ]
  },
  {
   "cell_type": "code",
   "execution_count": 10,
   "metadata": {},
   "outputs": [
    {
     "name": "stdout",
     "output_type": "stream",
     "text": [
      "está vazia.\n"
     ]
    }
   ],
   "source": [
    "#Question 4\n",
    "lista = []\n",
    "if not lista:\n",
    "    print(\"está vazia.\")"
   ]
  },
  {
   "cell_type": "code",
   "execution_count": 20,
   "metadata": {},
   "outputs": [
    {
     "name": "stdout",
     "output_type": "stream",
     "text": [
      "jean , você precisa mudar o nome\n",
      "seu nome, bianca ,está disponível\n",
      "seu nome, everton ,está disponível\n",
      "pedro , você precisa mudar o nome\n",
      "seu nome, yasmin ,está disponível\n"
     ]
    }
   ],
   "source": [
    "#Question 5\n",
    "current_users = [\"jean\", \"maria\", \"lucas\", \"pedro\", \"paulo\"]\n",
    "new_users = [\"jean\", \"bianca\", \"everton\", \"pedro\", \"yasmin\"]\n",
    "for i in new_users: \n",
    "    if i in current_users: \n",
    "        print((i),  \", você precisa mudar o nome\")\n",
    "    elif i not in current_users:\n",
    "        print(\"seu nome,\" ,(i), \",está disponível\")\n"
   ]
  },
  {
   "cell_type": "code",
   "execution_count": 33,
   "metadata": {},
   "outputs": [
    {
     "name": "stdout",
     "output_type": "stream",
     "text": [
      "1\n",
      "1st\n",
      "2\n",
      "2nd\n",
      "3\n",
      "3rd\n",
      "4\n",
      "4th\n",
      "5\n",
      "5th\n",
      "6\n",
      "6th\n",
      "7\n",
      "7th\n",
      "8\n",
      "8th\n",
      "9\n",
      "9th\n"
     ]
    }
   ],
   "source": [
    "#Question 6\n",
    "lista = [1,2,3,4,5,6,7,8,9]\n",
    "for i in lista:\n",
    "    print(i)\n",
    "    if i == 1:\n",
    "        print(\"1st\")\n",
    "    elif i == 2:\n",
    "        print(\"2nd\")\n",
    "    elif i == 3:\n",
    "        print(\"3rd\")\n",
    "    elif i == 4:\n",
    "        print(\"4th\")\n",
    "    elif i == 5:\n",
    "        print(\"5th\")\n",
    "    elif i == 6:\n",
    "        print(\"6th\")\n",
    "    elif i == 7:\n",
    "        print(\"7th\")\n",
    "    elif i == 8:\n",
    "        print(\"8th\")\n",
    "    else:\n",
    "        print(\"9th\")\n"
   ]
  }
 ],
 "metadata": {
  "kernelspec": {
   "display_name": "Python 3",
   "language": "python",
   "name": "python3"
  },
  "language_info": {
   "codemirror_mode": {
    "name": "ipython",
    "version": 3
   },
   "file_extension": ".py",
   "mimetype": "text/x-python",
   "name": "python",
   "nbconvert_exporter": "python",
   "pygments_lexer": "ipython3",
   "version": "3.10.4"
  },
  "vscode": {
   "interpreter": {
    "hash": "3ad933181bd8a04b432d3370b9dc3b0662ad032c4dfaa4e4f1596c548f763858"
   }
  }
 },
 "nbformat": 4,
 "nbformat_minor": 0
}
